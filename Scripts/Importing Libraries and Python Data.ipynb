{
 "cells": [
  {
   "cell_type": "markdown",
   "id": "ff734aae",
   "metadata": {},
   "source": [
    "# Importing Libraries"
   ]
  },
  {
   "cell_type": "code",
   "execution_count": 3,
   "id": "6c0536d1",
   "metadata": {},
   "outputs": [],
   "source": [
    "# Import libraries\n",
    "import pandas as py\n",
    "import numpy as np\n",
    "import os"
   ]
  },
  {
   "cell_type": "markdown",
   "id": "7803f7ec",
   "metadata": {},
   "source": [
    "# Python Data Types"
   ]
  },
  {
   "cell_type": "markdown",
   "id": "a81c4dee",
   "metadata": {},
   "source": [
    "## Integers"
   ]
  },
  {
   "cell_type": "code",
   "execution_count": 4,
   "id": "0454320a",
   "metadata": {},
   "outputs": [],
   "source": [
    "x = 40"
   ]
  },
  {
   "cell_type": "code",
   "execution_count": 5,
   "id": "3395b351",
   "metadata": {},
   "outputs": [],
   "source": [
    "y = 60"
   ]
  },
  {
   "cell_type": "code",
   "execution_count": 6,
   "id": "1cd03a81",
   "metadata": {},
   "outputs": [
    {
     "data": {
      "text/plain": [
       "100"
      ]
     },
     "execution_count": 6,
     "metadata": {},
     "output_type": "execute_result"
    }
   ],
   "source": [
    "x + y"
   ]
  },
  {
   "cell_type": "code",
   "execution_count": 7,
   "id": "2a79091a",
   "metadata": {},
   "outputs": [],
   "source": [
    "z = 140"
   ]
  },
  {
   "cell_type": "code",
   "execution_count": 8,
   "id": "55bd0f08",
   "metadata": {},
   "outputs": [
    {
     "data": {
      "text/plain": [
       "100"
      ]
     },
     "execution_count": 8,
     "metadata": {},
     "output_type": "execute_result"
    }
   ],
   "source": [
    "z - x"
   ]
  },
  {
   "cell_type": "code",
   "execution_count": 10,
   "id": "267074c0",
   "metadata": {},
   "outputs": [],
   "source": [
    "w = 160"
   ]
  },
  {
   "cell_type": "code",
   "execution_count": 11,
   "id": "9027b816",
   "metadata": {},
   "outputs": [
    {
     "data": {
      "text/plain": [
       "100"
      ]
     },
     "execution_count": 11,
     "metadata": {},
     "output_type": "execute_result"
    }
   ],
   "source": [
    "w - y"
   ]
  },
  {
   "cell_type": "markdown",
   "id": "56a4b4f9",
   "metadata": {},
   "source": [
    "## Floating Integers"
   ]
  },
  {
   "cell_type": "code",
   "execution_count": 12,
   "id": "d7583a7c",
   "metadata": {},
   "outputs": [],
   "source": [
    "a = 2.515"
   ]
  },
  {
   "cell_type": "code",
   "execution_count": 13,
   "id": "13947585",
   "metadata": {},
   "outputs": [],
   "source": [
    "b = 3.652"
   ]
  },
  {
   "cell_type": "code",
   "execution_count": 14,
   "id": "70340456",
   "metadata": {},
   "outputs": [
    {
     "data": {
      "text/plain": [
       "0.6886637458926615"
      ]
     },
     "execution_count": 14,
     "metadata": {},
     "output_type": "execute_result"
    }
   ],
   "source": [
    "a / b"
   ]
  },
  {
   "cell_type": "markdown",
   "id": "4d113573",
   "metadata": {},
   "source": [
    "## Strings"
   ]
  },
  {
   "cell_type": "code",
   "execution_count": 15,
   "id": "adbafbc7",
   "metadata": {},
   "outputs": [],
   "source": [
    "c = 'tig'"
   ]
  },
  {
   "cell_type": "code",
   "execution_count": 16,
   "id": "c0213556",
   "metadata": {},
   "outputs": [],
   "source": [
    "d = 'er'"
   ]
  },
  {
   "cell_type": "code",
   "execution_count": 17,
   "id": "6dd2f51e",
   "metadata": {},
   "outputs": [
    {
     "data": {
      "text/plain": [
       "'tiger'"
      ]
     },
     "execution_count": 17,
     "metadata": {},
     "output_type": "execute_result"
    }
   ],
   "source": [
    "c + d"
   ]
  },
  {
   "cell_type": "code",
   "execution_count": 18,
   "id": "5b9582f2",
   "metadata": {},
   "outputs": [],
   "source": [
    "e = 'I ate new'"
   ]
  },
  {
   "cell_type": "code",
   "execution_count": 21,
   "id": "40a067a5",
   "metadata": {},
   "outputs": [],
   "source": [
    "f = ' ice cream flavors on my birthday!'"
   ]
  },
  {
   "cell_type": "code",
   "execution_count": 37,
   "id": "13fb1ab9",
   "metadata": {},
   "outputs": [
    {
     "data": {
      "text/plain": [
       "'I ate some new ice cream flavors on my birthday!'"
      ]
     },
     "execution_count": 37,
     "metadata": {},
     "output_type": "execute_result"
    }
   ],
   "source": [
    "e + f"
   ]
  },
  {
   "cell_type": "code",
   "execution_count": 38,
   "id": "cbd02b73",
   "metadata": {},
   "outputs": [],
   "source": [
    "g = 'During a time of danger, '"
   ]
  },
  {
   "cell_type": "code",
   "execution_count": 39,
   "id": "5f250626",
   "metadata": {},
   "outputs": [],
   "source": [
    "h = 'Clark decided that he will become Superman!'"
   ]
  },
  {
   "cell_type": "code",
   "execution_count": 40,
   "id": "8665cfd4",
   "metadata": {},
   "outputs": [
    {
     "data": {
      "text/plain": [
       "'During a time of danger, Clark decided that he will become Superman!'"
      ]
     },
     "execution_count": 40,
     "metadata": {},
     "output_type": "execute_result"
    }
   ],
   "source": [
    "g + h"
   ]
  }
 ],
 "metadata": {
  "kernelspec": {
   "display_name": "Python 3 (ipykernel)",
   "language": "python",
   "name": "python3"
  },
  "language_info": {
   "codemirror_mode": {
    "name": "ipython",
    "version": 3
   },
   "file_extension": ".py",
   "mimetype": "text/x-python",
   "name": "python",
   "nbconvert_exporter": "python",
   "pygments_lexer": "ipython3",
   "version": "3.11.5"
  }
 },
 "nbformat": 4,
 "nbformat_minor": 5
}
