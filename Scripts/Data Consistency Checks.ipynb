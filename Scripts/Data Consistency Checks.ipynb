{
 "cells": [
  {
   "cell_type": "markdown",
   "id": "45e01f5b",
   "metadata": {},
   "source": [
    "# Importing Libraries"
   ]
  },
  {
   "cell_type": "code",
   "execution_count": 11,
   "id": "36f4ef32",
   "metadata": {},
   "outputs": [],
   "source": [
    "# Importing Libraries\n",
    "import pandas as pd\n",
    "import numpy as np\n",
    "import os"
   ]
  },
  {
   "cell_type": "code",
   "execution_count": 12,
   "id": "64c0fcc3",
   "metadata": {},
   "outputs": [],
   "source": [
    "path = r'C:\\Users\\Akira\\Documents\\Instacart Basket Analysis'"
   ]
  },
  {
   "cell_type": "code",
   "execution_count": 13,
   "id": "c2c5e47f",
   "metadata": {},
   "outputs": [],
   "source": [
    "df_ords = pd.read_csv(os.path.join(path, 'Data', 'Original Data', 'orders.csv'), index_col = False)"
   ]
  },
  {
   "cell_type": "code",
   "execution_count": 14,
   "id": "08d80df4",
   "metadata": {},
   "outputs": [],
   "source": [
    "df_prods = pd.read_csv(os.path.join(path, 'Data', 'Original Data', 'products.csv'), index_col = False)"
   ]
  },
  {
   "cell_type": "markdown",
   "id": "657c22ef",
   "metadata": {},
   "source": [
    "## Mixed Data Types"
   ]
  },
  {
   "cell_type": "code",
   "execution_count": 15,
   "id": "0db880cd",
   "metadata": {},
   "outputs": [],
   "source": [
    "# create a fake dataframe\n",
    "\n",
    "df_test = pd.DataFrame()"
   ]
  },
  {
   "cell_type": "code",
   "execution_count": 16,
   "id": "68e06786",
   "metadata": {},
   "outputs": [],
   "source": [
    "# create a mixed column\n",
    "\n",
    "df_test['mix'] = ['a', 'b', 1, True]"
   ]
  },
  {
   "cell_type": "code",
   "execution_count": 17,
   "id": "9bd10dd9",
   "metadata": {},
   "outputs": [
    {
     "data": {
      "text/html": [
       "<div>\n",
       "<style scoped>\n",
       "    .dataframe tbody tr th:only-of-type {\n",
       "        vertical-align: middle;\n",
       "    }\n",
       "\n",
       "    .dataframe tbody tr th {\n",
       "        vertical-align: top;\n",
       "    }\n",
       "\n",
       "    .dataframe thead th {\n",
       "        text-align: right;\n",
       "    }\n",
       "</style>\n",
       "<table border=\"1\" class=\"dataframe\">\n",
       "  <thead>\n",
       "    <tr style=\"text-align: right;\">\n",
       "      <th></th>\n",
       "      <th>mix</th>\n",
       "    </tr>\n",
       "  </thead>\n",
       "  <tbody>\n",
       "    <tr>\n",
       "      <th>0</th>\n",
       "      <td>a</td>\n",
       "    </tr>\n",
       "    <tr>\n",
       "      <th>1</th>\n",
       "      <td>b</td>\n",
       "    </tr>\n",
       "    <tr>\n",
       "      <th>2</th>\n",
       "      <td>1</td>\n",
       "    </tr>\n",
       "    <tr>\n",
       "      <th>3</th>\n",
       "      <td>True</td>\n",
       "    </tr>\n",
       "  </tbody>\n",
       "</table>\n",
       "</div>"
      ],
      "text/plain": [
       "    mix\n",
       "0     a\n",
       "1     b\n",
       "2     1\n",
       "3  True"
      ]
     },
     "execution_count": 17,
     "metadata": {},
     "output_type": "execute_result"
    }
   ],
   "source": [
    "df_test.head()"
   ]
  },
  {
   "cell_type": "code",
   "execution_count": 18,
   "id": "21582c85",
   "metadata": {},
   "outputs": [
    {
     "name": "stdout",
     "output_type": "stream",
     "text": [
      "mix\n"
     ]
    }
   ],
   "source": [
    "# Check for mixed types\n",
    "\n",
    "for col in df_test.columns.tolist():\n",
    "  weird = (df_test[[col]].map(type) != df_test[[col]].iloc[0].apply(type)).any(axis = 1)\n",
    "  if len (df_test[weird]) > 0:\n",
    "    print (col)"
   ]
  },
  {
   "cell_type": "markdown",
   "id": "afe18cf6",
   "metadata": {},
   "source": [
    "Without going into too much detail, let’s take a look at what’s happening here. Remember that you don’t need to understand everything just yet! Use this opportunity to slowly become more familiar with the ways things are written and conducted in Python.\n",
    "\n",
    "The structure that’s being used in this code is called a “for-loop.” The “for” in for-loop stands for “for these elements, do this,” and the “loop” describes how the structure works: looping over and over again as it performs the procedures detailed by the “for.” Here, the for-loop is looping through each column in the dataframe and executing the same block of code each time.\n",
    "\n",
    "Within the for-loop, a new variable is created: weird. Assigned to it is a test that checks whether the data types within the column are consistent. The weird variable will ultimately take a boolean value of either True or False. If True, that means the column contains inconsistent data types. If False, that means the column contains only one data type. Boolean values can also be represented by numbers: 0 as False and 1 as True.\n",
    "\n",
    "Here comes the “if” statement. An if statement checks if some condition is met, and if it’s met, executes a line of code. If the condition isn’t met, the code isn’t executed. Here, the if statement is checking whether weird is true or false. If it’s greater than 0, than it’s true. If not, it’s false. If weird is true, the command print(col) is executed, which prints the problematic column for you to see. Because of the for-loop, this command will be executed on every column in your dataframe, printing every mixed-type column it finds. Pretty slick!\n",
    "\n",
    "Now that you know how to find mixed-type columns within your dataframe, you need to know how to fix them. The first step is deciding what single data type the column in question should be. If your column contained mostly names, for instance, it should be a string. If it contained mostly order numbers, it should be a numeric value of some sort. You can only make a knowledged decision about what data type the column should be after having explored and analyzed the data in your dataframe. Once you’ve reached a decision, you can run the following code you first learned in the previous Exercise:"
   ]
  },
  {
   "cell_type": "code",
   "execution_count": 19,
   "id": "a973ce95",
   "metadata": {},
   "outputs": [],
   "source": [
    "# Change the column to a certain data type\n",
    "\n",
    "df_test['mix'] = df_test['mix'].astype('str')"
   ]
  },
  {
   "cell_type": "markdown",
   "id": "c1762579",
   "metadata": {},
   "source": [
    "# Missing Values"
   ]
  },
  {
   "cell_type": "code",
   "execution_count": 20,
   "id": "e74115ac",
   "metadata": {},
   "outputs": [
    {
     "data": {
      "text/plain": [
       "product_id        0\n",
       "product_name     16\n",
       "aisle_id          0\n",
       "department_id     0\n",
       "prices            0\n",
       "dtype: int64"
      ]
     },
     "execution_count": 20,
     "metadata": {},
     "output_type": "execute_result"
    }
   ],
   "source": [
    "df_prods.isnull().sum()"
   ]
  },
  {
   "cell_type": "markdown",
   "id": "9c96ceeb",
   "metadata": {},
   "source": [
    "The isnull is used to find missing functions, and then using the sum function to group each column"
   ]
  },
  {
   "cell_type": "markdown",
   "id": "08cec7b8",
   "metadata": {},
   "source": [
    " Next Create a subset of only the values where product name is missing.\n",
    " "
   ]
  },
  {
   "cell_type": "code",
   "execution_count": 21,
   "id": "b1f18716",
   "metadata": {},
   "outputs": [],
   "source": [
    "df_nan = df_prods[df_prods['product_name'].isnull() == True]"
   ]
  },
  {
   "cell_type": "code",
   "execution_count": 22,
   "id": "ad1ede1f",
   "metadata": {},
   "outputs": [
    {
     "data": {
      "text/html": [
       "<div>\n",
       "<style scoped>\n",
       "    .dataframe tbody tr th:only-of-type {\n",
       "        vertical-align: middle;\n",
       "    }\n",
       "\n",
       "    .dataframe tbody tr th {\n",
       "        vertical-align: top;\n",
       "    }\n",
       "\n",
       "    .dataframe thead th {\n",
       "        text-align: right;\n",
       "    }\n",
       "</style>\n",
       "<table border=\"1\" class=\"dataframe\">\n",
       "  <thead>\n",
       "    <tr style=\"text-align: right;\">\n",
       "      <th></th>\n",
       "      <th>product_id</th>\n",
       "      <th>product_name</th>\n",
       "      <th>aisle_id</th>\n",
       "      <th>department_id</th>\n",
       "      <th>prices</th>\n",
       "    </tr>\n",
       "  </thead>\n",
       "  <tbody>\n",
       "    <tr>\n",
       "      <th>33</th>\n",
       "      <td>34</td>\n",
       "      <td>NaN</td>\n",
       "      <td>121</td>\n",
       "      <td>14</td>\n",
       "      <td>12.2</td>\n",
       "    </tr>\n",
       "    <tr>\n",
       "      <th>68</th>\n",
       "      <td>69</td>\n",
       "      <td>NaN</td>\n",
       "      <td>26</td>\n",
       "      <td>7</td>\n",
       "      <td>11.8</td>\n",
       "    </tr>\n",
       "    <tr>\n",
       "      <th>115</th>\n",
       "      <td>116</td>\n",
       "      <td>NaN</td>\n",
       "      <td>93</td>\n",
       "      <td>3</td>\n",
       "      <td>10.8</td>\n",
       "    </tr>\n",
       "    <tr>\n",
       "      <th>261</th>\n",
       "      <td>262</td>\n",
       "      <td>NaN</td>\n",
       "      <td>110</td>\n",
       "      <td>13</td>\n",
       "      <td>12.1</td>\n",
       "    </tr>\n",
       "    <tr>\n",
       "      <th>525</th>\n",
       "      <td>525</td>\n",
       "      <td>NaN</td>\n",
       "      <td>109</td>\n",
       "      <td>11</td>\n",
       "      <td>1.2</td>\n",
       "    </tr>\n",
       "    <tr>\n",
       "      <th>1511</th>\n",
       "      <td>1511</td>\n",
       "      <td>NaN</td>\n",
       "      <td>84</td>\n",
       "      <td>16</td>\n",
       "      <td>14.3</td>\n",
       "    </tr>\n",
       "    <tr>\n",
       "      <th>1780</th>\n",
       "      <td>1780</td>\n",
       "      <td>NaN</td>\n",
       "      <td>126</td>\n",
       "      <td>11</td>\n",
       "      <td>12.3</td>\n",
       "    </tr>\n",
       "    <tr>\n",
       "      <th>2240</th>\n",
       "      <td>2240</td>\n",
       "      <td>NaN</td>\n",
       "      <td>52</td>\n",
       "      <td>1</td>\n",
       "      <td>14.2</td>\n",
       "    </tr>\n",
       "    <tr>\n",
       "      <th>2586</th>\n",
       "      <td>2586</td>\n",
       "      <td>NaN</td>\n",
       "      <td>104</td>\n",
       "      <td>13</td>\n",
       "      <td>12.4</td>\n",
       "    </tr>\n",
       "    <tr>\n",
       "      <th>3159</th>\n",
       "      <td>3159</td>\n",
       "      <td>NaN</td>\n",
       "      <td>126</td>\n",
       "      <td>11</td>\n",
       "      <td>13.1</td>\n",
       "    </tr>\n",
       "    <tr>\n",
       "      <th>3230</th>\n",
       "      <td>3230</td>\n",
       "      <td>NaN</td>\n",
       "      <td>120</td>\n",
       "      <td>16</td>\n",
       "      <td>14.4</td>\n",
       "    </tr>\n",
       "    <tr>\n",
       "      <th>3736</th>\n",
       "      <td>3736</td>\n",
       "      <td>NaN</td>\n",
       "      <td>41</td>\n",
       "      <td>8</td>\n",
       "      <td>14.8</td>\n",
       "    </tr>\n",
       "    <tr>\n",
       "      <th>4283</th>\n",
       "      <td>4283</td>\n",
       "      <td>NaN</td>\n",
       "      <td>77</td>\n",
       "      <td>7</td>\n",
       "      <td>14.4</td>\n",
       "    </tr>\n",
       "    <tr>\n",
       "      <th>4790</th>\n",
       "      <td>4790</td>\n",
       "      <td>NaN</td>\n",
       "      <td>91</td>\n",
       "      <td>16</td>\n",
       "      <td>14.5</td>\n",
       "    </tr>\n",
       "    <tr>\n",
       "      <th>38187</th>\n",
       "      <td>38183</td>\n",
       "      <td>NaN</td>\n",
       "      <td>39</td>\n",
       "      <td>12</td>\n",
       "      <td>20.9</td>\n",
       "    </tr>\n",
       "    <tr>\n",
       "      <th>40444</th>\n",
       "      <td>40440</td>\n",
       "      <td>NaN</td>\n",
       "      <td>120</td>\n",
       "      <td>16</td>\n",
       "      <td>14.8</td>\n",
       "    </tr>\n",
       "  </tbody>\n",
       "</table>\n",
       "</div>"
      ],
      "text/plain": [
       "       product_id product_name  aisle_id  department_id  prices\n",
       "33             34          NaN       121             14    12.2\n",
       "68             69          NaN        26              7    11.8\n",
       "115           116          NaN        93              3    10.8\n",
       "261           262          NaN       110             13    12.1\n",
       "525           525          NaN       109             11     1.2\n",
       "1511         1511          NaN        84             16    14.3\n",
       "1780         1780          NaN       126             11    12.3\n",
       "2240         2240          NaN        52              1    14.2\n",
       "2586         2586          NaN       104             13    12.4\n",
       "3159         3159          NaN       126             11    13.1\n",
       "3230         3230          NaN       120             16    14.4\n",
       "3736         3736          NaN        41              8    14.8\n",
       "4283         4283          NaN        77              7    14.4\n",
       "4790         4790          NaN        91             16    14.5\n",
       "38187       38183          NaN        39             12    20.9\n",
       "40444       40440          NaN       120             16    14.8"
      ]
     },
     "execution_count": 22,
     "metadata": {},
     "output_type": "execute_result"
    }
   ],
   "source": [
    "df_nan"
   ]
  },
  {
   "cell_type": "markdown",
   "id": "e6ee151c",
   "metadata": {},
   "source": [
    "There are a few ways to deal with missing data:\n",
    "\n",
    "1)Create a new variable that acts like a flag based on the missing value.\n",
    "\n",
    "create a new column containing the string values  status of each profile.\n",
    "\n",
    "2)Impute the value with the mean or median of the column (if the variable is numeric).\n",
    "\n",
    "If you choose to use the mean, you can use the df.describe() function to find the mean of the column in question, then use the following code to replace your missing values with it:\n",
    "\n",
    "df['column with missings'].fillna(mean value, inplace=True)\n",
    "If you choose to use the median, you can find it using the df_prods.median() function, then use the same command as above, only replacing “mean value” with “median value”:\n",
    "\n",
    "df['column with missings'].fillna(median value, inplace=True)\n",
    "\n",
    "3)Remove or filter out the missing data."
   ]
  },
  {
   "cell_type": "code",
   "execution_count": 23,
   "id": "ebe2f7e3",
   "metadata": {},
   "outputs": [
    {
     "data": {
      "text/plain": [
       "(49693, 5)"
      ]
     },
     "execution_count": 23,
     "metadata": {},
     "output_type": "execute_result"
    }
   ],
   "source": [
    "#check the current number of rows to compare to the subset to remove\n",
    "df_prods.shape"
   ]
  },
  {
   "cell_type": "code",
   "execution_count": 24,
   "id": "8f5c7906",
   "metadata": {},
   "outputs": [],
   "source": [
    "# Create a new subset, removing the missing values\n",
    "\n",
    "df_prods_clean = df_prods[df_prods['product_name'].isnull() == False]"
   ]
  },
  {
   "cell_type": "code",
   "execution_count": 25,
   "id": "f8bedc50",
   "metadata": {},
   "outputs": [
    {
     "data": {
      "text/plain": [
       "(49677, 5)"
      ]
     },
     "execution_count": 25,
     "metadata": {},
     "output_type": "execute_result"
    }
   ],
   "source": [
    "df_prods_clean.shape"
   ]
  },
  {
   "cell_type": "markdown",
   "id": "49173f5a",
   "metadata": {},
   "source": [
    "The exact number of rows from df_nan are removed from df_prods in this new set"
   ]
  },
  {
   "cell_type": "markdown",
   "id": "71a28e62",
   "metadata": {},
   "source": [
    "Removing the missing values from df_prods itself \n",
    "\n",
    "example 1. df_prods.dropna(inplace = True)\n",
    "\n",
    "example 2(only drop missing values from column) - df_prods.dropna(subset = [‘product_name’], inplace = True)\n"
   ]
  },
  {
   "cell_type": "markdown",
   "id": "5455a671",
   "metadata": {},
   "source": [
    "# Duplicates"
   ]
  },
  {
   "cell_type": "code",
   "execution_count": 26,
   "id": "fa2b791d",
   "metadata": {},
   "outputs": [],
   "source": [
    "# Looking for duplicates\n",
    "\n",
    "df_dups = df_prods_clean[df_prods_clean.duplicated()]"
   ]
  },
  {
   "cell_type": "markdown",
   "id": "feea62c9",
   "metadata": {},
   "source": [
    "This code creates a new subset of df_prods_clean—df_dups—containing only rows that are duplicates. The duplicated() function is what identifies duplicate rows. It’s run on the df_prods_clean dataframe. Any duplicate rows that it finds are saved within the new df_dups dataframe.\n"
   ]
  },
  {
   "cell_type": "code",
   "execution_count": 27,
   "id": "a8666d0a",
   "metadata": {},
   "outputs": [
    {
     "data": {
      "text/html": [
       "<div>\n",
       "<style scoped>\n",
       "    .dataframe tbody tr th:only-of-type {\n",
       "        vertical-align: middle;\n",
       "    }\n",
       "\n",
       "    .dataframe tbody tr th {\n",
       "        vertical-align: top;\n",
       "    }\n",
       "\n",
       "    .dataframe thead th {\n",
       "        text-align: right;\n",
       "    }\n",
       "</style>\n",
       "<table border=\"1\" class=\"dataframe\">\n",
       "  <thead>\n",
       "    <tr style=\"text-align: right;\">\n",
       "      <th></th>\n",
       "      <th>product_id</th>\n",
       "      <th>product_name</th>\n",
       "      <th>aisle_id</th>\n",
       "      <th>department_id</th>\n",
       "      <th>prices</th>\n",
       "    </tr>\n",
       "  </thead>\n",
       "  <tbody>\n",
       "    <tr>\n",
       "      <th>462</th>\n",
       "      <td>462</td>\n",
       "      <td>Fiber 4g Gummy Dietary Supplement</td>\n",
       "      <td>70</td>\n",
       "      <td>11</td>\n",
       "      <td>4.8</td>\n",
       "    </tr>\n",
       "    <tr>\n",
       "      <th>18459</th>\n",
       "      <td>18458</td>\n",
       "      <td>Ranger IPA</td>\n",
       "      <td>27</td>\n",
       "      <td>5</td>\n",
       "      <td>9.2</td>\n",
       "    </tr>\n",
       "    <tr>\n",
       "      <th>26810</th>\n",
       "      <td>26808</td>\n",
       "      <td>Black House Coffee Roasty Stout Beer</td>\n",
       "      <td>27</td>\n",
       "      <td>5</td>\n",
       "      <td>13.4</td>\n",
       "    </tr>\n",
       "    <tr>\n",
       "      <th>35309</th>\n",
       "      <td>35306</td>\n",
       "      <td>Gluten Free Organic Peanut Butter &amp; Chocolate ...</td>\n",
       "      <td>121</td>\n",
       "      <td>14</td>\n",
       "      <td>6.8</td>\n",
       "    </tr>\n",
       "    <tr>\n",
       "      <th>35495</th>\n",
       "      <td>35491</td>\n",
       "      <td>Adore Forever Body Wash</td>\n",
       "      <td>127</td>\n",
       "      <td>11</td>\n",
       "      <td>9.9</td>\n",
       "    </tr>\n",
       "  </tbody>\n",
       "</table>\n",
       "</div>"
      ],
      "text/plain": [
       "       product_id                                       product_name  \\\n",
       "462           462                  Fiber 4g Gummy Dietary Supplement   \n",
       "18459       18458                                         Ranger IPA   \n",
       "26810       26808               Black House Coffee Roasty Stout Beer   \n",
       "35309       35306  Gluten Free Organic Peanut Butter & Chocolate ...   \n",
       "35495       35491                            Adore Forever Body Wash   \n",
       "\n",
       "       aisle_id  department_id  prices  \n",
       "462          70             11     4.8  \n",
       "18459        27              5     9.2  \n",
       "26810        27              5    13.4  \n",
       "35309       121             14     6.8  \n",
       "35495       127             11     9.9  "
      ]
     },
     "execution_count": 27,
     "metadata": {},
     "output_type": "execute_result"
    }
   ],
   "source": [
    "df_dups"
   ]
  },
  {
   "cell_type": "markdown",
   "id": "cb41d99d",
   "metadata": {},
   "source": [
    "pandas function to remove duplicates - df.drop_duplicates()"
   ]
  },
  {
   "cell_type": "code",
   "execution_count": 28,
   "id": "e846701b",
   "metadata": {},
   "outputs": [
    {
     "data": {
      "text/plain": [
       "(49677, 5)"
      ]
     },
     "execution_count": 28,
     "metadata": {},
     "output_type": "execute_result"
    }
   ],
   "source": [
    "df_prods_clean.shape"
   ]
  },
  {
   "cell_type": "code",
   "execution_count": 29,
   "id": "e35c3398",
   "metadata": {},
   "outputs": [],
   "source": [
    "# new dataframe that removes duplicates\n",
    "\n",
    "df_prods_clean_no_dups = df_prods_clean.drop_duplicates()"
   ]
  },
  {
   "cell_type": "code",
   "execution_count": 30,
   "id": "6badec61",
   "metadata": {},
   "outputs": [
    {
     "data": {
      "text/plain": [
       "(49672, 5)"
      ]
     },
     "execution_count": 30,
     "metadata": {},
     "output_type": "execute_result"
    }
   ],
   "source": [
    "df_prods_clean_no_dups.shape"
   ]
  },
  {
   "cell_type": "code",
   "execution_count": 31,
   "id": "e06a5503",
   "metadata": {},
   "outputs": [],
   "source": [
    "df_prods_clean_no_dups.to_csv(os.path.join(path, 'Data', 'Prepared Data', 'products_checked.csv'))"
   ]
  },
  {
   "cell_type": "markdown",
   "id": "2db610cd",
   "metadata": {},
   "source": [
    "# 4.5 assignment"
   ]
  },
  {
   "cell_type": "code",
   "execution_count": 32,
   "id": "f3cfe26a",
   "metadata": {},
   "outputs": [
    {
     "data": {
      "text/html": [
       "<div>\n",
       "<style scoped>\n",
       "    .dataframe tbody tr th:only-of-type {\n",
       "        vertical-align: middle;\n",
       "    }\n",
       "\n",
       "    .dataframe tbody tr th {\n",
       "        vertical-align: top;\n",
       "    }\n",
       "\n",
       "    .dataframe thead th {\n",
       "        text-align: right;\n",
       "    }\n",
       "</style>\n",
       "<table border=\"1\" class=\"dataframe\">\n",
       "  <thead>\n",
       "    <tr style=\"text-align: right;\">\n",
       "      <th></th>\n",
       "      <th>order_id</th>\n",
       "      <th>user_id</th>\n",
       "      <th>order_number</th>\n",
       "      <th>order_dow</th>\n",
       "      <th>order_hour_of_day</th>\n",
       "      <th>days_since_prior_order</th>\n",
       "    </tr>\n",
       "  </thead>\n",
       "  <tbody>\n",
       "    <tr>\n",
       "      <th>count</th>\n",
       "      <td>3.421083e+06</td>\n",
       "      <td>3.421083e+06</td>\n",
       "      <td>3.421083e+06</td>\n",
       "      <td>3.421083e+06</td>\n",
       "      <td>3.421083e+06</td>\n",
       "      <td>3.214874e+06</td>\n",
       "    </tr>\n",
       "    <tr>\n",
       "      <th>mean</th>\n",
       "      <td>1.710542e+06</td>\n",
       "      <td>1.029782e+05</td>\n",
       "      <td>1.715486e+01</td>\n",
       "      <td>2.776219e+00</td>\n",
       "      <td>1.345202e+01</td>\n",
       "      <td>1.111484e+01</td>\n",
       "    </tr>\n",
       "    <tr>\n",
       "      <th>std</th>\n",
       "      <td>9.875817e+05</td>\n",
       "      <td>5.953372e+04</td>\n",
       "      <td>1.773316e+01</td>\n",
       "      <td>2.046829e+00</td>\n",
       "      <td>4.226088e+00</td>\n",
       "      <td>9.206737e+00</td>\n",
       "    </tr>\n",
       "    <tr>\n",
       "      <th>min</th>\n",
       "      <td>1.000000e+00</td>\n",
       "      <td>1.000000e+00</td>\n",
       "      <td>1.000000e+00</td>\n",
       "      <td>0.000000e+00</td>\n",
       "      <td>0.000000e+00</td>\n",
       "      <td>0.000000e+00</td>\n",
       "    </tr>\n",
       "    <tr>\n",
       "      <th>25%</th>\n",
       "      <td>8.552715e+05</td>\n",
       "      <td>5.139400e+04</td>\n",
       "      <td>5.000000e+00</td>\n",
       "      <td>1.000000e+00</td>\n",
       "      <td>1.000000e+01</td>\n",
       "      <td>4.000000e+00</td>\n",
       "    </tr>\n",
       "    <tr>\n",
       "      <th>50%</th>\n",
       "      <td>1.710542e+06</td>\n",
       "      <td>1.026890e+05</td>\n",
       "      <td>1.100000e+01</td>\n",
       "      <td>3.000000e+00</td>\n",
       "      <td>1.300000e+01</td>\n",
       "      <td>7.000000e+00</td>\n",
       "    </tr>\n",
       "    <tr>\n",
       "      <th>75%</th>\n",
       "      <td>2.565812e+06</td>\n",
       "      <td>1.543850e+05</td>\n",
       "      <td>2.300000e+01</td>\n",
       "      <td>5.000000e+00</td>\n",
       "      <td>1.600000e+01</td>\n",
       "      <td>1.500000e+01</td>\n",
       "    </tr>\n",
       "    <tr>\n",
       "      <th>max</th>\n",
       "      <td>3.421083e+06</td>\n",
       "      <td>2.062090e+05</td>\n",
       "      <td>1.000000e+02</td>\n",
       "      <td>6.000000e+00</td>\n",
       "      <td>2.300000e+01</td>\n",
       "      <td>3.000000e+01</td>\n",
       "    </tr>\n",
       "  </tbody>\n",
       "</table>\n",
       "</div>"
      ],
      "text/plain": [
       "           order_id       user_id  order_number     order_dow  \\\n",
       "count  3.421083e+06  3.421083e+06  3.421083e+06  3.421083e+06   \n",
       "mean   1.710542e+06  1.029782e+05  1.715486e+01  2.776219e+00   \n",
       "std    9.875817e+05  5.953372e+04  1.773316e+01  2.046829e+00   \n",
       "min    1.000000e+00  1.000000e+00  1.000000e+00  0.000000e+00   \n",
       "25%    8.552715e+05  5.139400e+04  5.000000e+00  1.000000e+00   \n",
       "50%    1.710542e+06  1.026890e+05  1.100000e+01  3.000000e+00   \n",
       "75%    2.565812e+06  1.543850e+05  2.300000e+01  5.000000e+00   \n",
       "max    3.421083e+06  2.062090e+05  1.000000e+02  6.000000e+00   \n",
       "\n",
       "       order_hour_of_day  days_since_prior_order  \n",
       "count       3.421083e+06            3.214874e+06  \n",
       "mean        1.345202e+01            1.111484e+01  \n",
       "std         4.226088e+00            9.206737e+00  \n",
       "min         0.000000e+00            0.000000e+00  \n",
       "25%         1.000000e+01            4.000000e+00  \n",
       "50%         1.300000e+01            7.000000e+00  \n",
       "75%         1.600000e+01            1.500000e+01  \n",
       "max         2.300000e+01            3.000000e+01  "
      ]
     },
     "execution_count": 32,
     "metadata": {},
     "output_type": "execute_result"
    }
   ],
   "source": [
    "df_ords.describe()"
   ]
  },
  {
   "cell_type": "markdown",
   "id": "b728cb8e",
   "metadata": {},
   "source": [
    "Based on this data profile, I would potentially look at the days_since_prior order. My belief is that since the minimum is 0, that could entail something to look into because it would be odd for someone to be ordering two instacart orders in one day."
   ]
  },
  {
   "cell_type": "markdown",
   "id": "27894dbd",
   "metadata": {},
   "source": [
    "## checking for mixed data columns"
   ]
  },
  {
   "cell_type": "code",
   "execution_count": 46,
   "id": "61d34222",
   "metadata": {},
   "outputs": [],
   "source": [
    "for col in df_ords.columns.tolist():\n",
    "  weird = (df_ords[[col]].map(type) != df_ords[[col]].iloc[0].apply(type)).any(axis = 1)\n",
    "  if len (df_ords[weird]) > 0:\n",
    "    print (col)"
   ]
  },
  {
   "cell_type": "markdown",
   "id": "26ed6401",
   "metadata": {},
   "source": [
    "## Missing Values"
   ]
  },
  {
   "cell_type": "code",
   "execution_count": 34,
   "id": "12171690",
   "metadata": {},
   "outputs": [
    {
     "data": {
      "text/plain": [
       "order_id                       0\n",
       "user_id                        0\n",
       "eval_set                       0\n",
       "order_number                   0\n",
       "order_dow                      0\n",
       "order_hour_of_day              0\n",
       "days_since_prior_order    206209\n",
       "dtype: int64"
      ]
     },
     "execution_count": 34,
     "metadata": {},
     "output_type": "execute_result"
    }
   ],
   "source": [
    "df_ords.isnull().sum()"
   ]
  },
  {
   "cell_type": "markdown",
   "id": "d80b9ea1",
   "metadata": {},
   "source": [
    "In this report the only column that are missing values is the days_since_prior_order column. This could be because of an instacart data entry error of accessing a customer's prior order. Or this is the instance of customers only purchasing one instacart order, so it records one order as missing. This is a significant amount of lost data, 16.59%"
   ]
  },
  {
   "cell_type": "code",
   "execution_count": 35,
   "id": "8486386b",
   "metadata": {},
   "outputs": [
    {
     "data": {
      "text/plain": [
       "(3421083, 7)"
      ]
     },
     "execution_count": 35,
     "metadata": {},
     "output_type": "execute_result"
    }
   ],
   "source": [
    "df_ords.shape"
   ]
  },
  {
   "cell_type": "code",
   "execution_count": 36,
   "id": "2c8adc29",
   "metadata": {},
   "outputs": [
    {
     "data": {
      "text/plain": [
       "16.590367054784224"
      ]
     },
     "execution_count": 36,
     "metadata": {},
     "output_type": "execute_result"
    }
   ],
   "source": [
    "3421083 / 206209"
   ]
  },
  {
   "cell_type": "code",
   "execution_count": 37,
   "id": "edeb25d1",
   "metadata": {},
   "outputs": [],
   "source": [
    "mean_value = df_ords['days_since_prior_order'].mean()"
   ]
  },
  {
   "cell_type": "code",
   "execution_count": 38,
   "id": "f56a6995",
   "metadata": {},
   "outputs": [],
   "source": [
    "df_ords['days_since_prior_order'].fillna(mean_value, inplace=True)"
   ]
  },
  {
   "cell_type": "markdown",
   "id": "a9d428d4",
   "metadata": {},
   "source": [
    "My reasoning of replacing the missing values with the mean is because the mean value is an average amount and the column itself does not contain any major outliers."
   ]
  },
  {
   "cell_type": "code",
   "execution_count": 39,
   "id": "052e03eb",
   "metadata": {},
   "outputs": [
    {
     "data": {
      "text/html": [
       "<div>\n",
       "<style scoped>\n",
       "    .dataframe tbody tr th:only-of-type {\n",
       "        vertical-align: middle;\n",
       "    }\n",
       "\n",
       "    .dataframe tbody tr th {\n",
       "        vertical-align: top;\n",
       "    }\n",
       "\n",
       "    .dataframe thead th {\n",
       "        text-align: right;\n",
       "    }\n",
       "</style>\n",
       "<table border=\"1\" class=\"dataframe\">\n",
       "  <thead>\n",
       "    <tr style=\"text-align: right;\">\n",
       "      <th></th>\n",
       "      <th>order_id</th>\n",
       "      <th>user_id</th>\n",
       "      <th>eval_set</th>\n",
       "      <th>order_number</th>\n",
       "      <th>order_dow</th>\n",
       "      <th>order_hour_of_day</th>\n",
       "      <th>days_since_prior_order</th>\n",
       "    </tr>\n",
       "  </thead>\n",
       "  <tbody>\n",
       "    <tr>\n",
       "      <th>0</th>\n",
       "      <td>2539329</td>\n",
       "      <td>1</td>\n",
       "      <td>prior</td>\n",
       "      <td>1</td>\n",
       "      <td>2</td>\n",
       "      <td>8</td>\n",
       "      <td>11.114836</td>\n",
       "    </tr>\n",
       "    <tr>\n",
       "      <th>1</th>\n",
       "      <td>2398795</td>\n",
       "      <td>1</td>\n",
       "      <td>prior</td>\n",
       "      <td>2</td>\n",
       "      <td>3</td>\n",
       "      <td>7</td>\n",
       "      <td>15.000000</td>\n",
       "    </tr>\n",
       "    <tr>\n",
       "      <th>2</th>\n",
       "      <td>473747</td>\n",
       "      <td>1</td>\n",
       "      <td>prior</td>\n",
       "      <td>3</td>\n",
       "      <td>3</td>\n",
       "      <td>12</td>\n",
       "      <td>21.000000</td>\n",
       "    </tr>\n",
       "    <tr>\n",
       "      <th>3</th>\n",
       "      <td>2254736</td>\n",
       "      <td>1</td>\n",
       "      <td>prior</td>\n",
       "      <td>4</td>\n",
       "      <td>4</td>\n",
       "      <td>7</td>\n",
       "      <td>29.000000</td>\n",
       "    </tr>\n",
       "    <tr>\n",
       "      <th>4</th>\n",
       "      <td>431534</td>\n",
       "      <td>1</td>\n",
       "      <td>prior</td>\n",
       "      <td>5</td>\n",
       "      <td>4</td>\n",
       "      <td>15</td>\n",
       "      <td>28.000000</td>\n",
       "    </tr>\n",
       "  </tbody>\n",
       "</table>\n",
       "</div>"
      ],
      "text/plain": [
       "   order_id  user_id eval_set  order_number  order_dow  order_hour_of_day  \\\n",
       "0   2539329        1    prior             1          2                  8   \n",
       "1   2398795        1    prior             2          3                  7   \n",
       "2    473747        1    prior             3          3                 12   \n",
       "3   2254736        1    prior             4          4                  7   \n",
       "4    431534        1    prior             5          4                 15   \n",
       "\n",
       "   days_since_prior_order  \n",
       "0               11.114836  \n",
       "1               15.000000  \n",
       "2               21.000000  \n",
       "3               29.000000  \n",
       "4               28.000000  "
      ]
     },
     "execution_count": 39,
     "metadata": {},
     "output_type": "execute_result"
    }
   ],
   "source": [
    "df_ords.head()"
   ]
  },
  {
   "cell_type": "markdown",
   "id": "9c58a900",
   "metadata": {},
   "source": [
    "## checking for duplicates"
   ]
  },
  {
   "cell_type": "code",
   "execution_count": 40,
   "id": "b164d522",
   "metadata": {},
   "outputs": [],
   "source": [
    "df_ords_dups = df_ords[df_ords.duplicated()]"
   ]
  },
  {
   "cell_type": "code",
   "execution_count": 41,
   "id": "74a42728",
   "metadata": {},
   "outputs": [
    {
     "data": {
      "text/html": [
       "<div>\n",
       "<style scoped>\n",
       "    .dataframe tbody tr th:only-of-type {\n",
       "        vertical-align: middle;\n",
       "    }\n",
       "\n",
       "    .dataframe tbody tr th {\n",
       "        vertical-align: top;\n",
       "    }\n",
       "\n",
       "    .dataframe thead th {\n",
       "        text-align: right;\n",
       "    }\n",
       "</style>\n",
       "<table border=\"1\" class=\"dataframe\">\n",
       "  <thead>\n",
       "    <tr style=\"text-align: right;\">\n",
       "      <th></th>\n",
       "      <th>order_id</th>\n",
       "      <th>user_id</th>\n",
       "      <th>eval_set</th>\n",
       "      <th>order_number</th>\n",
       "      <th>order_dow</th>\n",
       "      <th>order_hour_of_day</th>\n",
       "      <th>days_since_prior_order</th>\n",
       "    </tr>\n",
       "  </thead>\n",
       "  <tbody>\n",
       "  </tbody>\n",
       "</table>\n",
       "</div>"
      ],
      "text/plain": [
       "Empty DataFrame\n",
       "Columns: [order_id, user_id, eval_set, order_number, order_dow, order_hour_of_day, days_since_prior_order]\n",
       "Index: []"
      ]
     },
     "execution_count": 41,
     "metadata": {},
     "output_type": "execute_result"
    }
   ],
   "source": [
    "df_ords_dups"
   ]
  },
  {
   "cell_type": "markdown",
   "id": "9bd52f08",
   "metadata": {},
   "source": [
    "This analysis shows that there are no duplicate values among all of the columns"
   ]
  },
  {
   "cell_type": "markdown",
   "id": "0f41adaf",
   "metadata": {},
   "source": [
    "Because no duplicate values were found, I do not have to remove anything from df_ords"
   ]
  },
  {
   "cell_type": "code",
   "execution_count": 42,
   "id": "610b3fe6",
   "metadata": {},
   "outputs": [],
   "source": [
    "df_ords.to_csv(os.path.join(path, 'Data', 'Prepared Data', 'orders_checked.csv'))"
   ]
  },
  {
   "cell_type": "code",
   "execution_count": null,
   "id": "567280c9",
   "metadata": {},
   "outputs": [],
   "source": []
  }
 ],
 "metadata": {
  "kernelspec": {
   "display_name": "Python 3 (ipykernel)",
   "language": "python",
   "name": "python3"
  },
  "language_info": {
   "codemirror_mode": {
    "name": "ipython",
    "version": 3
   },
   "file_extension": ".py",
   "mimetype": "text/x-python",
   "name": "python",
   "nbconvert_exporter": "python",
   "pygments_lexer": "ipython3",
   "version": "3.11.5"
  }
 },
 "nbformat": 4,
 "nbformat_minor": 5
}
